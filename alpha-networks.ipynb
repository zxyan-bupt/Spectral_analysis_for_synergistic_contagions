{
 "cells": [
  {
   "cell_type": "code",
   "execution_count": null,
   "id": "eccb1c34",
   "metadata": {},
   "outputs": [],
   "source": [
    "import numpy as np\n",
    "import scipy.io as sio\n",
    "\n",
    "def save_as_mat(matrix, filename):\n",
    "    sio.savemat(filename, {'adjacency_matrix': matrix})\n",
    "\n",
    "N = 2000\n",
    "alpha = np.array([0.75])  # alpha 现在表示偏好连边的比例\n",
    "degree_interpolate = np.zeros((2, len(alpha), N))\n",
    "m0 = 3  # 初始节点数\n",
    "\n",
    "for n_step in range(len(alpha)):\n",
    "    # 初始化邻接矩阵（完全图）\n",
    "    A = np.zeros((N, N))\n",
    "    for i in range(m0):\n",
    "        for k in range(i + 1, m0):\n",
    "            A[i, k] = 1\n",
    "    A = A + A.T  # 对称化矩阵\n",
    "\n",
    "    m_links = 3  # 每个新节点添加的边数\n",
    "    p_rls = np.zeros(N)  # 节点被偏好连接的累积概率\n",
    "\n",
    "    # 动态添加节点\n",
    "    for i in range(m0, N):\n",
    "        for _ in range(m_links):\n",
    "            n = np.random.rand()  # 生成随机数决定连接类型\n",
    "            \n",
    "            # 偏好连接 (比例 = alpha)\n",
    "            if n > alpha[n_step]:  # 修改条件：随机数 > alpha 时执行随机连接\n",
    "                # 随机连接：任意选择一个节点\n",
    "                k = np.random.randint(N)\n",
    "                while k == i:  # 避免自环\n",
    "                    k = np.random.randint(N)\n",
    "                A[i, k] = 1\n",
    "                A[k, i] = 1\n",
    "            else:\n",
    "                # 偏好连接：基于度的概率选择\n",
    "                degree = np.sum(A, axis=1)  # 计算节点度\n",
    "                uniform = np.zeros(N)\n",
    "                r = degree > 0\n",
    "                uniform[r] = 3  # 基础权重\n",
    "                connected_set = uniform + p_rls  # 组合偏好概率\n",
    "                connected_set = connected_set / np.sum(connected_set)  # 归一化\n",
    "                \n",
    "                k = np.random.choice(N, size=1, p=connected_set)\n",
    "                while k == i:  # 避免自环\n",
    "                    k = np.random.choice(N, size=1, p=connected_set)\n",
    "                A[i, k] = 1\n",
    "                A[k, i] = 1\n",
    "                p_rls[k] += 1  # 更新偏好概率\n",
    "\n",
    "    # 保存结果\n",
    "    save_as_mat(A, f\"Adjacency_2000_{alpha[n_step]}.mat\")"
   ]
  }
 ],
 "metadata": {
  "kernelspec": {
   "display_name": "Python 3 (ipykernel)",
   "language": "python",
   "name": "python3"
  },
  "language_info": {
   "codemirror_mode": {
    "name": "ipython",
    "version": 3
   },
   "file_extension": ".py",
   "mimetype": "text/x-python",
   "name": "python",
   "nbconvert_exporter": "python",
   "pygments_lexer": "ipython3",
   "version": "3.11.5"
  }
 },
 "nbformat": 4,
 "nbformat_minor": 5
}
